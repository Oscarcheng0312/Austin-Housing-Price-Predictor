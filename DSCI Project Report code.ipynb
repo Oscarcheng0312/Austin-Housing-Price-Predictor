{
 "cells": [
  {
   "cell_type": "markdown",
   "id": "cec15d41-aecf-45d1-b63e-85d4e7a8568a",
   "metadata": {},
   "source": [
    "# DSCI 100 Group 10 Project Proposal: Austin, TX Housing Prices\n",
    "#### Bhagat Basra, Oscar Cheng, Lucas Wei, Wanning Zhang\n",
    "### Introduction\n",
    "Housing prices are dependent on a multitude of variables. We will be investigating the housing market in Austin, Texas, the tenth-most populous city in the United States and the price of single-family homes in this area (Moskowitz, 2024). Prices of homes are influenced by a variety of factors including the size, the number of bedrooms, the quality of the nearby school, and its age (Zietz et al., 2008). We chose to investigate these variables because we observed a relationship between them and the house price. \n",
    "\n",
    "The question we will try to answer with our project is, **\"Can we predict the housing prices of single-family homes in Austin, Texas based on the living area square footage, number of bedrooms, average school rating, and year it was built?”**\n",
    "The dataset we will be using is called “Austin, TX House Listings”. This dataset contains house listing data from 2021. "
   ]
  },
  {
   "cell_type": "markdown",
   "id": "ff55c6ea-26b1-41bc-b368-89b4968b2d50",
   "metadata": {},
   "source": [
    "### Methods & Results:"
   ]
  },
  {
   "cell_type": "markdown",
   "id": "bcc0043e-1f3d-4b57-a8a7-459d99c98c66",
   "metadata": {},
   "source": [
    "First, we will load in our libraries and read the data and assign it to a dataframe."
   ]
  },
  {
   "cell_type": "code",
   "execution_count": null,
   "id": "4c9c4c18-1be4-4d15-8019-c96f26539d73",
   "metadata": {},
   "outputs": [],
   "source": [
    "library(tidyverse)\n",
    "library(repr)\n",
    "library(tidymodels)\n",
    "library(RCurl)\n",
    "library(cowplot)\n",
    "options(repr.matrix.max.rows = 6)"
   ]
  },
  {
   "cell_type": "code",
   "execution_count": null,
   "id": "ce0aa1a5-3545-477a-addc-5cd366b99b21",
   "metadata": {},
   "outputs": [],
   "source": [
    "url <- getURL(\"https://raw.githubusercontent.com/Victorier0101/dsci_project/main/austinHousingData.csv\")\n",
    "data <- read_csv(url)\n",
    "head(data, n = 3)"
   ]
  },
  {
   "cell_type": "markdown",
   "id": "2a1f4d48-e242-4865-a410-08335cc28812",
   "metadata": {},
   "source": [
    "Below we are processing the data for our selected variables and filtering for single-family homes. We also filter specifically for Austin, Texas as ~1% of the homes in the dataset are from the Greater Austin area. We then split the data into training and testing."
   ]
  },
  {
   "cell_type": "code",
   "execution_count": null,
   "id": "a0f62a76-b654-43bb-946b-f17ea4cca88b",
   "metadata": {},
   "outputs": [],
   "source": [
    "data_selected <- data |> \n",
    "    filter(homeType == \"Single Family\", city == \"austin\") |> \n",
    "    select(latestPrice, livingAreaSqFt, numOfBedrooms, avgSchoolRating, yearBuilt)"
   ]
  },
  {
   "cell_type": "markdown",
   "id": "c90332a8-e940-4e29-a937-6cf4c82845d8",
   "metadata": {},
   "source": [
    "Now we will set the seed and split the data into 75% training and 25% testing. "
   ]
  },
  {
   "cell_type": "markdown",
   "id": "d4ee78b1-d85b-488e-8b1c-0f30067537ad",
   "metadata": {},
   "source": [
    "#####  Table 1: Training data for the model"
   ]
  },
  {
   "cell_type": "code",
   "execution_count": null,
   "id": "3bd5bc7b-b646-438c-8e68-a2e18d0f7707",
   "metadata": {
    "scrolled": true
   },
   "outputs": [],
   "source": [
    "set.seed(1)\n",
    "data_split <- initial_split(data_selected, prop = 0.75, strata = latestPrice) \n",
    "data_training <- training(data_split)\n",
    "data_testing <- testing(data_split)\n",
    "head(data_training)"
   ]
  },
  {
   "cell_type": "markdown",
   "id": "8f935c34-51ca-470e-aa5e-9b18bd7893d8",
   "metadata": {},
   "source": [
    "#### Exploratory analysis\n",
    "\n",
    "Below we are performing exploratory data analysis on the training data and summarizing the data in a table. We are showing the total number of homes in our training data aswell as the mean of all our selected predictors."
   ]
  },
  {
   "cell_type": "markdown",
   "id": "2004b8c6-2938-4580-bdde-39fc2f95ad97",
   "metadata": {},
   "source": [
    "##### Table 2: Average value of each predictor"
   ]
  },
  {
   "cell_type": "code",
   "execution_count": null,
   "id": "6080e7c1-502f-433b-ac2c-1bfb438fcee0",
   "metadata": {},
   "outputs": [],
   "source": [
    "data_mean <- summarize(data_training,\n",
    "                    total_homes = n(),\n",
    "                    mean_price = mean(latestPrice),\n",
    "                    mean_sqft = mean(livingAreaSqFt),\n",
    "                    mean_bedrooms = mean(numOfBedrooms),\n",
    "                    mean_school_rating = mean(avgSchoolRating),\n",
    "                    mean_year_built = mean(yearBuilt))\n",
    "data_mean "
   ]
  },
  {
   "cell_type": "markdown",
   "id": "4d5f6a4a-f2e4-430c-a371-e1c96900227d",
   "metadata": {},
   "source": [
    "Here are plots comparing each selected predictor with housing price. Outliers in the training data were ommited in the visualization to better represent the relationship. "
   ]
  },
  {
   "cell_type": "code",
   "execution_count": null,
   "id": "3f95c85d-54d6-4ce6-8f51-7aa1df81a776",
   "metadata": {},
   "outputs": [],
   "source": [
    "options(repr.plot.width = 12, repr.plot.height = 12)\n",
    "data_sqft_plot <- data_training |>\n",
    "    filter(livingAreaSqFt < 10000, latestPrice < 4000000)|>\n",
    "    ggplot(aes(x= livingAreaSqFt, y= latestPrice))+\n",
    "                geom_point(alpha = 0.3)+\n",
    "                labs(x=\"Living Area (SqFt)\", y=\"Price ($USD)\")+\n",
    "                ggtitle(\"Price vs. Living Area (SqFt)\", subtitle = \"Figure 1\")+\n",
    "                theme(text = element_text(size = 15))\n",
    "\n",
    "\n",
    "\n",
    "data_bedrooms_plot <- data_training |>\n",
    "    filter(latestPrice < 4000000)|>\n",
    "    ggplot(aes(x= numOfBedrooms, y= latestPrice))+\n",
    "                geom_point(alpha = 0.3)+\n",
    "                labs(x=\"Number of Bedrooms\", y=\"Price ($USD)\")+\n",
    "                ggtitle(\"Price vs. Number of Bedrooms\", subtitle = \"Figure 2\")+\n",
    "                theme(text = element_text(size = 15))\n",
    "                \n",
    "\n",
    "\n",
    "data_school_plot <- data_training |>\n",
    "    filter(latestPrice < 4000000)|>\n",
    "    ggplot(aes(x= avgSchoolRating, y= latestPrice))+\n",
    "                geom_point(alpha = 0.3)+\n",
    "                labs(x=\"Average Nearby School Rating (1-10)\", y=\"Price ($USD)\")+\n",
    "                ggtitle(\"Price vs. Average Nearby School Rating \", subtitle = \"Figure 3\")+\n",
    "                theme(text = element_text(size = 15))\n",
    "                \n",
    "\n",
    "\n",
    "data_yearbuilt_plot <- data_training |>\n",
    "    filter(latestPrice < 4000000)|>\n",
    "    ggplot(aes(x= yearBuilt, y= latestPrice))+\n",
    "                geom_point(alpha = 0.3)+\n",
    "                labs(x=\"Year Built\", y=\"Price ($USD)\")+\n",
    "                ggtitle(\"Price vs. Year Built\", subtitle = \"Figure 4\")+\n",
    "                theme(text = element_text(size = 15))\n",
    "                \n",
    "\n",
    "\n",
    "plot_grid(data_sqft_plot,data_bedrooms_plot,data_school_plot,data_yearbuilt_plot)"
   ]
  },
  {
   "cell_type": "markdown",
   "id": "cba980d2-c041-435b-9c09-95f5cd4b698a",
   "metadata": {},
   "source": [
    "These graphs demonstrate why we selected these predictors. In each visualization, there is a relationship for each predictor which is linear and relatively weak. Since these graphs show some form of correlation, this indicates that they will be a good predictor in our model and provide valuable information because the price seeems to be dependent on them. Both the number of bedrooms and average nearby school ratings graphs look like bars because the variables are not continuous. "
   ]
  },
  {
   "cell_type": "markdown",
   "id": "bfe874f0-d1c4-40f8-9a77-cf3b93928da3",
   "metadata": {},
   "source": [
    "#### Analysis\n",
    "Here we create an engine and recipe so we can analyze the optimal number of 'k neighbours' to use. We are using \"neighbors = tune()\" in order to do this."
   ]
  },
  {
   "cell_type": "code",
   "execution_count": null,
   "id": "e7df7065-2672-4b71-a94c-219b66867bee",
   "metadata": {},
   "outputs": [],
   "source": [
    "set.seed(1)\n",
    "data_spec <- nearest_neighbor(weight_func = \"rectangular\", neighbors = tune()) |> \n",
    "       set_engine(\"kknn\") |>\n",
    "       set_mode(\"regression\") \n",
    "\n",
    "data_recipe <- recipe(latestPrice ~., data = data_training) |>\n",
    "       step_scale(all_predictors()) |>\n",
    "       step_center(all_predictors())\n",
    "data_recipe"
   ]
  },
  {
   "cell_type": "markdown",
   "id": "598c39ab-1726-4021-ae16-d876672e9a7a",
   "metadata": {},
   "source": [
    "Here we are creating splits for cross validation with 5 folds and creating a workflow. "
   ]
  },
  {
   "cell_type": "code",
   "execution_count": null,
   "id": "a1b89c84-6d71-41a4-a18c-e87efb452729",
   "metadata": {},
   "outputs": [],
   "source": [
    "set.seed(1)\n",
    "data_vfold <- vfold_cv(data_training, v = 5, strata = latestPrice)\n",
    "\n",
    "data_workflow <- workflow() |>\n",
    "  add_recipe(data_recipe) |>\n",
    "  add_model(data_spec)\n",
    "data_workflow"
   ]
  },
  {
   "cell_type": "markdown",
   "id": "78b8d31c-0c09-412c-99c2-47e47fde3315",
   "metadata": {},
   "source": [
    "Next, we are determining which k value has the lowest mean rmse. We narrowed down the range by analyzing a much larger range with larger increments and by reducing them in order to get a specific k value. "
   ]
  },
  {
   "cell_type": "markdown",
   "id": "bb072d46-b900-4eea-a74e-cbf92e00f0f2",
   "metadata": {},
   "source": [
    "##### Table 3: Comparing result with each k neighbor"
   ]
  },
  {
   "cell_type": "code",
   "execution_count": null,
   "id": "15591ad2-fc7c-4091-aa99-7e9784108ebf",
   "metadata": {},
   "outputs": [],
   "source": [
    "set.seed(1)\n",
    "gridvals <- tibble(neighbors = seq(from = 5, to = 20, by = 1))\n",
    "data_results <- data_workflow |>\n",
    "  tune_grid(resamples = data_vfold, grid = gridvals) |>\n",
    "  collect_metrics()\n",
    "data_results"
   ]
  },
  {
   "cell_type": "markdown",
   "id": "571eb50b-9128-47fa-89d0-dc631113d743",
   "metadata": {},
   "source": [
    "##### Table 4: Result using k = 11"
   ]
  },
  {
   "cell_type": "code",
   "execution_count": null,
   "id": "81e82522-072a-4d92-93de-a138ad8a4243",
   "metadata": {},
   "outputs": [],
   "source": [
    "data_min <- data_results |>\n",
    "    filter(.metric == \"rmse\") |>\n",
    "    slice_min(mean, n=1)\n",
    "data_min"
   ]
  },
  {
   "cell_type": "markdown",
   "id": "9ecafcad-e6d8-48e6-89c4-3bd29362e0ad",
   "metadata": {},
   "source": [
    "From this we can see that the optimal k value to select is k=11. Below is a graph further demonstrating that k=11 is the optimal choice. "
   ]
  },
  {
   "cell_type": "code",
   "execution_count": null,
   "id": "ef9e41f1-4bea-44ec-be88-293fc06dee70",
   "metadata": {},
   "outputs": [],
   "source": [
    "data_kval <- data_results |>\n",
    "    filter(.metric == \"rmse\")\n",
    "options(repr.plot.width = 8, repr.plot.height = 6)\n",
    "data_k_results <- data_kval |>\n",
    "    ggplot(aes(x = neighbors, y = mean))+\n",
    "        geom_line()+\n",
    "        labs(x=\"Neighbours\", y = \"Mean RMSE\")+\n",
    "        ggtitle(\"Mean RMSE vs. k neighbors\", subtitle = \"Figure 5\")\n",
    "data_k_results"
   ]
  },
  {
   "cell_type": "markdown",
   "id": "5478454f-6561-4538-8279-6ba9168a8c2e",
   "metadata": {},
   "source": [
    "Now that we have the optimal k value of 11, we created a new engine with this k value and used the same recipe to fit the data into training. The prediction summary of the testing data is shown below. "
   ]
  },
  {
   "cell_type": "markdown",
   "id": "bc530aec-e03e-45fb-9bc2-b9214152883b",
   "metadata": {},
   "source": [
    "##### Table 5: Summary of result using k = 11, evaulated on testing data."
   ]
  },
  {
   "cell_type": "code",
   "execution_count": null,
   "id": "4f510a80-babe-45d6-9601-950a23d24d22",
   "metadata": {},
   "outputs": [],
   "source": [
    "data_kspec <- nearest_neighbor(weight_func = \"rectangular\", neighbors = 11) |> \n",
    "       set_engine(\"kknn\") |>\n",
    "       set_mode(\"regression\") \n",
    "\n",
    "data_fit <- workflow() |>\n",
    "          add_recipe(data_recipe) |>\n",
    "          add_model(data_kspec) |>\n",
    "          fit(data = data_training)\n",
    "\n",
    "data_summary <- data_fit |>\n",
    "           predict(data_testing) |>\n",
    "           bind_cols(data_testing) |>\n",
    "           metrics(truth = latestPrice, estimate = .pred)\n",
    "data_summary"
   ]
  },
  {
   "cell_type": "markdown",
   "id": "b3f360e5-1e87-4497-8488-37caf944101b",
   "metadata": {},
   "source": [
    "This shows that the RMSE (Root Mean Squared Error), the average difference between our predicted and actual price, is roughly 30,922.9. Since the mean home price is $520,634.5, the average percent error is roughly 6% (calculated by dividing the mean rmse by the mean home price). "
   ]
  },
  {
   "cell_type": "code",
   "execution_count": null,
   "id": "1d1ea2e1-6819-45f2-bca3-46a100eac884",
   "metadata": {},
   "outputs": [],
   "source": [
    "data_preds <- data_fit |>\n",
    "  predict(data_testing) |>\n",
    "  bind_cols(data_testing)|>\n",
    "    filter(livingAreaSqFt < 7500, latestPrice < 4000000)\n",
    "\n",
    "options(repr.plot.width = 12, repr.plot.height = 12)\n",
    "\n",
    "data_livingAreaSqFt_plot <- data |>\n",
    "        filter(livingAreaSqFt < 7500, latestPrice < 4000000)|>\n",
    "        ggplot(aes(x = livingAreaSqFt, y = latestPrice)) +\n",
    "          geom_point(alpha = 0.4) +\n",
    "          geom_line(data = data_preds,\n",
    "            mapping = aes(x = livingAreaSqFt, y = .pred),\n",
    "            color = \"blue\",\n",
    "            linewidth = 1) +\n",
    "  xlab(\"House size (square feet)\") +\n",
    "  ylab(\"Price (USD)\")+\n",
    "  ggtitle(\"Price vs. House Size\", subtitle = \"Figure 6\")\n",
    "\n",
    "\n",
    "\n",
    "data_numOfBedrooms_plot <- data |>\n",
    "        filter(numOfBedrooms <10, latestPrice < 4000000)|>\n",
    "        ggplot(aes(x = numOfBedrooms, y = latestPrice)) +\n",
    "          geom_point(alpha = 0.4) +\n",
    "          geom_line(data = data_preds,\n",
    "            mapping = aes(x = numOfBedrooms, y = .pred),\n",
    "            color = \"blue\",\n",
    "            linewidth = 1) +\n",
    "  xlab(\"Number of Bedrooms\") +\n",
    "  ylab(\"Price (USD)\")+\n",
    "  ggtitle(\"Price vs. Number of Bedrooms\", subtitle = \"Figure 7\")\n",
    "\n",
    "\n",
    "\n",
    "data_avgSchoolRating_plot <- data |>\n",
    "        filter(latestPrice < 4000000)|>\n",
    "        ggplot(aes(x = avgSchoolRating, y = latestPrice)) +\n",
    "          geom_point(alpha = 0.4) +\n",
    "          geom_line(data = data_preds,\n",
    "            mapping = aes(x = avgSchoolRating, y = .pred),\n",
    "            color = \"blue\",\n",
    "            linewidth = 1) +\n",
    "  xlab(\"Average School Rating (1-10)\") +\n",
    "  ylab(\"Price (USD)\")+\n",
    "  ggtitle(\"Price vs. Average School Rating\", subtitle = \"Figure 8\")\n",
    "\n",
    "\n",
    "data_yearBuilt_plot <- data |>\n",
    "        filter(latestPrice < 4000000)|>\n",
    "        ggplot(aes(x = yearBuilt, y = latestPrice)) +\n",
    "          geom_point(alpha = 0.4) +\n",
    "          geom_line(data = data_preds,\n",
    "            mapping = aes(x = yearBuilt, y = .pred),\n",
    "            color = \"blue\",\n",
    "            linewidth = 1) +\n",
    "  xlab(\"Year Built\") +\n",
    "  ylab(\"Price (USD)\") +\n",
    "  ggtitle(\"Price vs. Year Built\", subtitle = \"Figure 9\")\n",
    "\n",
    "\n",
    "plot_grid(\n",
    "  data_livingAreaSqFt_plot, data_numOfBedrooms_plot, data_avgSchoolRating_plot, data_yearBuilt_plot\n",
    ")"
   ]
  },
  {
   "cell_type": "markdown",
   "id": "52566a3a-c31c-45d3-8088-90bdfafa9963",
   "metadata": {},
   "source": [
    "These graphs above show visulaizations of our results. There are 4 graphs of each predictor variable vs. price, along with an overlayed line of the predicted house prices. We chose to show each predictor seperately because in order to accurately showcase the results with one figure, there would need to be a 5 dimensional plot, which is not possible. The relationships shown may look weak or not accurate but this is because the model takes all the predictors into account, so relationships between predictors are not able to be shown. Therefore, it is more important to look at the RMSE to determine if our model was successful, which it is because our RMSE is low. Analyzing these plots, house size seems to be the strongest predictor variable as its plot most aligns with the predicted values line. "
   ]
  },
  {
   "cell_type": "markdown",
   "id": "49da518f-a57f-4462-b62e-e9d15a1f40b7",
   "metadata": {},
   "source": [
    "### Discussion"
   ]
  },
  {
   "cell_type": "markdown",
   "id": "42bf6514-c700-4eaf-a0f6-ca0907508324",
   "metadata": {},
   "source": [
    "We have found a model that predicts the single family house price in Austin, TX. It had a RMSE value of around 31,000 dollars which suggests that the model is sufficient enough to predict the housing prices because the average single family house price is around 520,000 US dollar, and 31,000 US dollar is much smaller compared to the average price. \n",
    "\n",
    "This result is what we expected from the model because of our process for selecting the k value. We created a big range of k values with large increments. Then we refined to the smaller k value range with smaller increments, where it made more sense after seeing the graph generated with the larger values. This ensures us to find the right k-value that works the best for this project. Another key point of why we expected this model to work is because of the amount of decision making we established before we decided on our predictors. We intentionally selected the predictors of which it is more reasonable by looking at the graph generated and seeing if they had a general trend relating to the price of the house. \n",
    "\n",
    "Creating an accurate model of housing prices given certain input variables can have great impact. This would allow home owners to predict the price of their house to ensure that they were asking for a fair value. Another possible impact of this model is that it would allow real estate investors to use the model to identify undervalued property, increasing potential returns. Another way this model could be used is by banks and other mortgage lenders to appropriately asses the risk of a loan. \n",
    "\n",
    "Some future questions and investigations that could be explored is if using more variables will create a more accurate model. It could also be investigated which variables effect home price the most. There also other factors that we were not able to incorporate into the model because they were not in our data set, such as transit proximity, which can have an effect on housing price (Yu et al., 2016). Furthermore, more than just single family homes could be studied such as apartments, townhomes, or condos and in cities other than Austin, Texas."
   ]
  },
  {
   "cell_type": "markdown",
   "id": "191b4229-3fd9-4c22-a3d1-46d073e4f343",
   "metadata": {},
   "source": [
    "### References"
   ]
  },
  {
   "cell_type": "markdown",
   "id": "40fa5958-51a5-4d00-9292-49ce51584dad",
   "metadata": {},
   "source": [
    "_____"
   ]
  },
  {
   "cell_type": "markdown",
   "id": "beb9ac91-2e85-4faf-a70e-fe886ab66385",
   "metadata": {},
   "source": [
    "Moskowitz, D. (2024, January 23). 10 largest cities in the U.S. Investopedia. https://www.investopedia.com/articles/personal-finance/050815/top-10-most-developed-cities-us.asp\n",
    "\n",
    "Yu, H., Zhang, M., & Pang, H. (2017). Evaluation of transit proximity effects on residential land prices: an empirical study in Austin, Texas. Transportation Planning and Technology, 40(8), 841–854. https://doi.org/10.1080/03081060.2017.1355880\n",
    "\n",
    "Zietz, J., Zietz, E.N. & Sirmans, G.S. Determinants of House Prices: A Quantile Regression Approach. J Real Estate Finance Econ 37, 317–333 (2008). https://doi.org/10.1007/s11146-007-9053-7\n",
    "\n",
    "Data set obtained from: Pierce, E. (2021, April 12). Austin, TX House listings. Kaggle. https://www.kaggle.com/datasets/ericpierce/austinhousingprices/data"
   ]
  },
  {
   "cell_type": "code",
   "execution_count": null,
   "id": "092128ff-b966-4dd2-bbd2-c0ce19222964",
   "metadata": {},
   "outputs": [],
   "source": []
  }
 ],
 "metadata": {
  "kernelspec": {
   "display_name": "R",
   "language": "R",
   "name": "ir"
  },
  "language_info": {
   "codemirror_mode": "r",
   "file_extension": ".r",
   "mimetype": "text/x-r-source",
   "name": "R",
   "pygments_lexer": "r",
   "version": "4.4.1"
  }
 },
 "nbformat": 4,
 "nbformat_minor": 5
}
